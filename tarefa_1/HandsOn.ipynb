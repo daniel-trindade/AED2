{
 "cells": [
  {
   "cell_type": "markdown",
   "metadata": {},
   "source": [
    "# Tutorial de Introdução a Grafos: Teoria e Prática\n",
    "\n",
    "Bem-vindo(a) ao tutorial de introdução a grafos, preparado para estudantes de Engenharia da Computação. Este notebook foi desenvolvido para servir como um guia prático (hands-on) que revisa os conceitos essenciais de grafos, conforme apresentados no Atlas.pdf :contentReference[oaicite:1]{index=1}, e para auxiliar na aplicação desses conceitos em problemas reais."
   ]
  },
  {
   "cell_type": "markdown",
   "metadata": {},
   "source": [
    "## Objetivos do Tutorial\n",
    "\n",
    "- Revisar os fundamentos teóricos dos grafos (definição, nós, arestas, grafos simples, direcionados e ponderados).\n",
    "- Apresentar exemplos práticos de construção e visualização de grafos utilizando a biblioteca NetworkX em Python.\n",
    "- Propor exercícios práticos para fixação dos conceitos estudados.\n",
    "\n",
    "Ao longo do tutorial, usaremos trechos selecionados do Atlas.pdf para embasar a teoria. Por exemplo, na seção 6 do Atlas.pdf são apresentados os conceitos de grafos simples e seus complementos, enquanto em seções posteriores são discutidos grafos direcionados e ponderados.\n",
    "\n",
    "Vamos começar!"
   ]
  },
  {
   "cell_type": "code",
   "execution_count": null,
   "metadata": {},
   "outputs": [],
   "source": [
    "# Importando bibliotecas necessárias\n",
    "import networkx as nx\n",
    "import matplotlib.pyplot as plt\n",
    "import numpy as np\n",
    "\n",
    "# Configuração para exibição dos gráficos inline (para notebooks Jupyter)\n",
    "%matplotlib inline"
   ]
  },
  {
   "cell_type": "markdown",
   "metadata": {},
   "source": [
    "## 1. Fundamentos Teóricos dos Grafos\n",
    "\n",
    "Conforme apresentado no Atlas.pdf, um **grafo** é uma estrutura composta por um conjunto de **nós** (ou vértices) e um conjunto de **arestas** que conectam pares de nós. Formalmente, podemos defini-lo como G = (V, E), onde:\n",
    "\n",
    "- **V** é o conjunto de nós;\n",
    "- **E** é o conjunto de arestas, com cada aresta definida como um par de nós (u, v).\n",
    "\n",
    "A partir desta definição básica, o Atlas.pdf explora diversas variações, tais como:\n",
    "\n",
    "- **Grafos Simples:** Não possuem laços (self-loops) nem múltiplas arestas entre o mesmo par de nós. (Ver Atlas.pdf, Seção 6.1) :contentReference[oaicite:2]{index=2}\n",
    "- **Grafos Direcionados:** As arestas possuem direção, ou seja, (u, v) é distinto de (v, u). (Atlas.pdf, Seção 6.2) :contentReference[oaicite:3]{index=3}\n",
    "- **Grafos Ponderados:** Cada aresta possui um peso, representando a intensidade ou custo da conexão. (Atlas.pdf, Seção 6.3) :contentReference[oaicite:4]{index=4}\n",
    "\n",
    "Nas seções seguintes, vamos implementar exemplos práticos para cada um desses tipos de grafo."
   ]
  },
  {
   "cell_type": "markdown",
   "metadata": {},
   "source": [
    "## 2. Grafos Simples\n",
    "\n",
    "Um grafo simples é aquele composto apenas por nós e arestas sem a presença de laços ou arestas paralelas. No Atlas.pdf, essa é a definição básica de grafo, que pode ser representada por G = (V, E). \n",
    "\n",
    "A seguir, veja um exemplo prático de criação e visualização de um grafo simples utilizando a biblioteca NetworkX."
   ]
  },
  {
   "cell_type": "code",
   "execution_count": null,
   "metadata": {},
   "outputs": [],
   "source": [
    "# Criando um grafo simples\n",
    "G = nx.Graph()\n",
    "\n",
    "# Adicionando nós\n",
    "G.add_nodes_from([1, 2, 3, 4, 5])\n",
    "\n",
    "# Adicionando arestas\n",
    "G.add_edges_from([(1, 2), (1, 3), (2, 4), (3, 4), (4, 5)])\n",
    "\n",
    "# Desenhando o grafo\n",
    "plt.figure(figsize=(6,4))\n",
    "pos = nx.spring_layout(G)  # layout para melhor visualização\n",
    "nx.draw(G, pos, with_labels=True, node_color='lightblue', edge_color='gray', node_size=500)\n",
    "plt.title('Grafo Simples')\n",
    "plt.show()\n",
    "\n",
    "# Exibindo número de nós e arestas\n",
    "print('Número de nós:', G.number_of_nodes())\n",
    "print('Número de arestas:', G.number_of_edges())"
   ]
  },
  {
   "cell_type": "markdown",
   "metadata": {},
   "source": [
    "## 3. Grafos Direcionados\n",
    "\n",
    "Em um **grafo direcionado** (ou digrafo), cada aresta possui uma direção, ou seja, (u, v) é uma conexão de u para v, que pode não ser recíproca. No Atlas.pdf (Seção 6.2) essa distinção é enfatizada, pois muitos sistemas reais possuem relações assimétricas.\n",
    "\n",
    "Vamos criar um exemplo prático de grafo direcionado:"
   ]
  },
  {
   "cell_type": "code",
   "execution_count": null,
   "metadata": {},
   "outputs": [],
   "source": [
    "# Criando um grafo direcionado\n",
    "DG = nx.DiGraph()\n",
    "\n",
    "# Adicionando nós\n",
    "DG.add_nodes_from(['A', 'B', 'C', 'D'])\n",
    "\n",
    "# Adicionando arestas direcionadas\n",
    "DG.add_edges_from([('A', 'B'), ('B', 'C'), ('C', 'A'), ('C', 'D')])\n",
    "\n",
    "# Desenhando o grafo direcionado\n",
    "plt.figure(figsize=(6,4))\n",
    "pos = nx.circular_layout(DG)\n",
    "nx.draw(DG, pos, with_labels=True, node_color='lightgreen', arrows=True, arrowstyle='->', arrowsize=15, node_size=500)\n",
    "plt.title('Grafo Direcionado')\n",
    "plt.show()"
   ]
  },
  {
   "cell_type": "markdown",
   "metadata": {},
   "source": [
    "## 4. Grafos Ponderados\n",
    "\n",
    "Em um **grafo ponderado**, cada aresta possui um peso que pode representar a força, o custo ou a distância da conexão entre os nós. Conforme descrito no Atlas.pdf (Seção 6.3), o peso pode ser interpretado de duas maneiras: como proximidade ou como distância.\n",
    "\n",
    "Veja um exemplo prático de grafo ponderado:"
   ]
  },
  {
   "cell_type": "code",
   "execution_count": null,
   "metadata": {},
   "outputs": [],
   "source": [
    "# Criando um grafo ponderado\n",
    "WG = nx.Graph()\n",
    "\n",
    "# Adicionando nós\n",
    "WG.add_nodes_from([1, 2, 3, 4])\n",
    "\n",
    "# Adicionando arestas com pesos (ex: representando distância)\n",
    "WG.add_edge(1, 2, weight=4.5)\n",
    "WG.add_edge(1, 3, weight=2.0)\n",
    "WG.add_edge(2, 3, weight=1.5)\n",
    "WG.add_edge(3, 4, weight=3.0)\n",
    "\n",
    "# Obter pesos para usar na espessura das arestas\n",
    "edges = WG.edges(data=True)\n",
    "weights = [d['weight'] for (_, _, d) in edges]\n",
    "\n",
    "# Desenhando o grafo ponderado\n",
    "plt.figure(figsize=(6,4))\n",
    "pos = nx.spring_layout(WG)\n",
    "nx.draw(WG, pos, with_labels=True, node_color='salmon', edge_color='black', width=weights, node_size=500)\n",
    "plt.title('Grafo Ponderado')\n",
    "plt.show()"
   ]
  },
  {
   "cell_type": "markdown",
   "metadata": {},
   "source": [
    "## 5. Exercícios Práticos\n",
    "\n",
    "Nesta seção, você encontrará alguns exercícios para praticar os conceitos apresentados. Esses exercícios foram inspirados nos exemplos e exercícios propostos no Atlas.pdf.\n",
    "\n",
    "### Exercício 1\n",
    "\n",
    "Calcule o número de nós (|V|) e o número de arestas (|E|) para o grafo simples criado na seção 2.\n",
    "\n",
    "Tente responder utilizando os métodos do NetworkX e, se necessário, imprima os resultados."
   ]
  },
  {
   "cell_type": "code",
   "execution_count": null,
   "metadata": {},
   "outputs": [],
   "source": [
    "# Exercício: Número de nós e arestas do grafo simples\n",
    "num_nos = G.number_of_nodes()\n",
    "num_arestas = G.number_of_edges()\n",
    "\n",
    "print('Número de nós (|V|):', num_nos)\n",
    "print('Número de arestas (|E|):', num_arestas)"
   ]
  },
  {
   "cell_type": "markdown",
   "metadata": {},
   "source": [
    "### Exercício 2\n",
    "\n",
    "Crie um grafo direcionado representando uma pequena rede social onde:\n",
    "\n",
    "- O nó A considera B como amigo, mas B não retribui.\n",
    "- B tem amizade recíproca com C e D.\n",
    "- Apenas C considera D um amigo.\n",
    "\n",
    "Utilize o grafo direcionado e desenhe-o para verificar o relacionamento entre os nós."
   ]
  },
  {
   "cell_type": "code",
   "execution_count": null,
   "metadata": {},
   "outputs": [],
   "source": [
    "# Exercício: Grafo direcionado com relações assimétricas\n",
    "DG_ex = nx.DiGraph()\n",
    "\n",
    "# Adicionando nós\n",
    "DG_ex.add_nodes_from(['A', 'B', 'C', 'D'])\n",
    "\n",
    "# Adicionando as relações conforme enunciado\n",
    "# A -> B\n",
    "DG_ex.add_edge('A', 'B')\n",
    "\n",
    "# B <-> C e B <-> D\n",
    "DG_ex.add_edge('B', 'C')\n",
    "DG_ex.add_edge('C', 'B')\n",
    "DG_ex.add_edge('B', 'D')\n",
    "DG_ex.add_edge('D', 'B')\n",
    "\n",
    "# Apenas C -> D (única direção)\n",
    "DG_ex.add_edge('C', 'D')\n",
    "\n",
    "# Desenhando o grafo\n",
    "plt.figure(figsize=(6,4))\n",
    "pos = nx.spring_layout(DG_ex)\n",
    "nx.draw(DG_ex, pos, with_labels=True, node_color='wheat', arrows=True, node_size=500)\n",
    "plt.title('Exercício: Relações em Grafo Direcionado')\n",
    "plt.show()"
   ]
  },
  {
   "cell_type": "markdown",
   "metadata": {},
   "source": [
    "## 6. Conclusão\n",
    "\n",
    "Neste tutorial, revisamos os conceitos fundamentais dos grafos conforme apresentados no Atlas.pdf, e colocamos em prática os principais tipos de grafos: simples, direcionados e ponderados.\n",
    "\n",
    "Utilize este notebook como um guia de referência rápida para revisar os conceitos e para desenvolver suas próprias análises e aplicações em grafos ao longo do semestre.\n",
    "\n",
    "**Boa sorte e bons estudos!**"
   ]
  }
 ],
 "metadata": {
  "kernelspec": {
   "display_name": "Python 3",
   "language": "python",
   "name": "python3"
  },
  "language_info": {
   "name": "python",
   "version": "3.x"
  }
 },
 "nbformat": 4,
 "nbformat_minor": 5
}
